{
 "cells": [
  {
   "cell_type": "markdown",
   "id": "e903c820",
   "metadata": {},
   "source": [
    "**=== Dogs vs Cats SVM ===**\n",
    "\n",
    "by **Verindra Hernanda Putra**"
   ]
  },
  {
   "cell_type": "markdown",
   "id": "4fb57e78",
   "metadata": {},
   "source": [
    "# Overview\n",
    "\n",
    "The overral process is : \n",
    "\n",
    "- Data Loading, Exploration, and Preparation\n",
    "- Splitting Data\n",
    "- Modelling\n",
    "- Evaluation\n",
    "- Submission"
   ]
  },
  {
   "cell_type": "markdown",
   "id": "dcfc72e5",
   "metadata": {},
   "source": [
    "# Data Loading, Exploration, and Preparation\n",
    "\n",
    "Preparation for the dataset, libraries, etc"
   ]
  },
  {
   "cell_type": "code",
   "execution_count": 1,
   "id": "ca943265",
   "metadata": {},
   "outputs": [],
   "source": [
    "# Libraries\n",
    "import numpy as np\n",
    "import pandas as pd\n",
    "import cv2\n",
    "import os\n",
    "from tqdm import tqdm\n",
    "import random\n",
    "\n",
    "from sklearn.model_selection import train_test_split\n",
    "from sklearn.preprocessing import StandardScaler\n",
    "from sklearn.svm import SVC\n",
    "from sklearn.metrics import classification_report, confusion_matrix\n",
    "\n",
    "from skimage.feature import hog\n",
    "\n",
    "import matplotlib.pyplot as plt\n",
    "import seaborn as sns"
   ]
  },
  {
   "cell_type": "code",
   "execution_count": 2,
   "id": "c7a5fa65",
   "metadata": {},
   "outputs": [],
   "source": [
    "# Set a consistent style for plots\n",
    "plt.style.use('seaborn-v0_8-whitegrid')"
   ]
  },
  {
   "cell_type": "code",
   "execution_count": 3,
   "id": "1462a3c0",
   "metadata": {},
   "outputs": [],
   "source": [
    "# Config\n",
    "TRAIN_DIR = '../input/train/'\n",
    "TEST_DIR = '../input/test1/'\n",
    "N_SAMPLES_PER_CLASS = 7500 \n",
    "IMG_SIZE = (64, 64) \n",
    "RANDOM_STATE = 42"
   ]
  },
  {
   "cell_type": "code",
   "execution_count": 4,
   "id": "2956fd61",
   "metadata": {},
   "outputs": [],
   "source": [
    "# Data Loading Function\n",
    "def load_train_data(train_dir, n_samples, img_size):\n",
    "    feature_list = []\n",
    "    labels = []\n",
    "    \n",
    "    all_filenames = os.listdir(train_dir)\n",
    "    cat_files = [f for f in all_filenames if f.startswith('cat')]\n",
    "    dog_files = [f for f in all_filenames if f.startswith('dog')]\n",
    "    \n",
    "    random.seed(RANDOM_STATE)\n",
    "    cat_files_sample = random.sample(cat_files, n_samples)\n",
    "    dog_files_sample = random.sample(dog_files, n_samples)\n",
    "    filenames_to_load = cat_files_sample + dog_files_sample\n",
    "    random.shuffle(filenames_to_load)\n",
    "    \n",
    "    print(f\"Loading {len(filenames_to_load)} images and extracting features...\")\n",
    "    for filename in tqdm(filenames_to_load):\n",
    "        try:\n",
    "            label = 1 if filename.startswith('dog') else 0\n",
    "            img_path = os.path.join(train_dir, filename)\n",
    "            img_color = cv2.imread(img_path)\n",
    "            \n",
    "            if img_color is not None:\n",
    "                features = extract_features(img_color, img_size)\n",
    "                feature_list.append(features)\n",
    "                labels.append(label)\n",
    "        except Exception as e:\n",
    "            print(f\"\\n[WARNING] Skipping file '{filename}' due to a processing error: {e}\")\n",
    "            continue\n",
    "            \n",
    "    return feature_list, labels"
   ]
  },
  {
   "cell_type": "code",
   "execution_count": 5,
   "id": "1525e02d",
   "metadata": {},
   "outputs": [],
   "source": [
    "def extract_features(img_color, resize_shape):\n",
    "    # Resize the image to a standard size ONCE.\n",
    "    img_resized = cv2.resize(img_color, resize_shape)\n",
    "\n",
    "    # Extract HOG features from the resized image.\n",
    "    gray_resized = cv2.cvtColor(img_resized, cv2.COLOR_BGR2GRAY)\n",
    "    hog_vec = hog(gray_resized, orientations=9, pixels_per_cell=(8, 8),\n",
    "                  cells_per_block=(2, 2), channel_axis=None)\n",
    "\n",
    "    # Extract Color Histogram features from the resized image.\n",
    "    hist_b = cv2.calcHist([img_resized], [0], None, [32], [0, 256])\n",
    "    hist_g = cv2.calcHist([img_resized], [1], None, [32], [0, 256])\n",
    "    hist_r = cv2.calcHist([img_resized], [2], None, [32], [0, 256])\n",
    "    \n",
    "    color_hist = np.concatenate((hist_b, hist_g, hist_r)).flatten()\n",
    "    color_hist = cv2.normalize(color_hist, color_hist).flatten()\n",
    "\n",
    "    # Combine and return the final, fixed-length feature vector.\n",
    "    combined_features = np.hstack((hog_vec, color_hist))\n",
    "    return combined_features"
   ]
  },
  {
   "cell_type": "code",
   "execution_count": 6,
   "id": "eb588088",
   "metadata": {},
   "outputs": [
    {
     "name": "stdout",
     "output_type": "stream",
     "text": [
      "Loading 15000 images and extracting features...\n"
     ]
    },
    {
     "name": "stderr",
     "output_type": "stream",
     "text": [
      "100%|██████████| 15000/15000 [03:10<00:00, 78.76it/s]\n"
     ]
    },
    {
     "name": "stdout",
     "output_type": "stream",
     "text": [
      "\n",
      "Successfully created feature matrix with shape: (15000, 1860)\n"
     ]
    }
   ],
   "source": [
    "# 1. Load Data\n",
    "features, labels = load_train_data(TRAIN_DIR, N_SAMPLES_PER_CLASS, IMG_SIZE)\n",
    "X = np.array(features)\n",
    "y = np.array(labels)\n",
    "print(f\"\\nSuccessfully created feature matrix with shape: {X.shape}\")"
   ]
  },
  {
   "cell_type": "markdown",
   "id": "66cf4d9a",
   "metadata": {},
   "source": [
    "# Splitting Data\n",
    "\n",
    "Split the data to train and test"
   ]
  },
  {
   "cell_type": "code",
   "execution_count": 7,
   "id": "15f3ec1e",
   "metadata": {},
   "outputs": [],
   "source": [
    "# Train-Validation Split and Scaling\n",
    "X_train, X_val, y_train, y_val = train_test_split(\n",
    "    X, y, test_size=0.2, random_state=RANDOM_STATE, stratify=y\n",
    ")\n",
    "scaler = StandardScaler()\n",
    "X_train_scaled = scaler.fit_transform(X_train)\n",
    "X_val_scaled = scaler.transform(X_val)"
   ]
  },
  {
   "cell_type": "markdown",
   "id": "19e7a3d7",
   "metadata": {},
   "source": [
    "# Modelling\n",
    "\n",
    "Chose SVM model and train with the splitted data"
   ]
  },
  {
   "cell_type": "code",
   "execution_count": 8,
   "id": "5b4254e8",
   "metadata": {},
   "outputs": [
    {
     "name": "stdout",
     "output_type": "stream",
     "text": [
      "\n",
      "Training SVM model with fixed parameters for a fast baseline...\n",
      "Model training complete.\n"
     ]
    }
   ],
   "source": [
    "# Train SVM with Fixed Parameters (Fast Baseline)\n",
    "print(\"\\nTraining SVM model with fixed parameters for a fast baseline...\")\n",
    "\n",
    "model = SVC(C=10, gamma=0.001, kernel='rbf', probability=True, random_state=RANDOM_STATE)\n",
    "\n",
    "model.fit(X_train_scaled, y_train)\n",
    "print(\"Model training complete.\")"
   ]
  },
  {
   "cell_type": "markdown",
   "id": "e54dc088",
   "metadata": {},
   "source": [
    "# Evaluation\n",
    "\n",
    "Evaluate model with confussion matrix to measure the perfomance"
   ]
  },
  {
   "cell_type": "code",
   "execution_count": 9,
   "id": "6c72b844",
   "metadata": {},
   "outputs": [
    {
     "name": "stdout",
     "output_type": "stream",
     "text": [
      "\n",
      "Evaluating the baseline model on the validation set...\n",
      "\n",
      "--- Baseline Validation Classification Report ---\n",
      "              precision    recall  f1-score   support\n",
      "\n",
      "     Cat (0)       0.75      0.79      0.77      1500\n",
      "     Dog (1)       0.78      0.74      0.76      1500\n",
      "\n",
      "    accuracy                           0.77      3000\n",
      "   macro avg       0.77      0.77      0.77      3000\n",
      "weighted avg       0.77      0.77      0.77      3000\n",
      "\n",
      "\n",
      "--- Baseline Validation Confusion Matrix ---\n"
     ]
    },
    {
     "data": {
      "image/png": "[encoded data removed]",
      "text/plain": [
       "<Figure size 600x500 with 2 Axes>"
      ]
     },
     "metadata": {},
     "output_type": "display_data"
    }
   ],
   "source": [
    "# Evaluate the Final Model\n",
    "print(\"\\nEvaluating the baseline model on the validation set...\")\n",
    "y_pred_val = model.predict(X_val_scaled)\n",
    "print(\"\\n--- Baseline Validation Classification Report ---\")\n",
    "print(classification_report(y_val, y_pred_val, target_names=['Cat (0)', 'Dog (1)']))\n",
    "\n",
    "print(\"\\n--- Baseline Validation Confusion Matrix ---\")\n",
    "cm = confusion_matrix(y_val, y_pred_val)\n",
    "plt.figure(figsize=(6, 5))\n",
    "sns.heatmap(cm, annot=True, fmt='d', cmap='viridis',\n",
    "            xticklabels=['Cat (0)', 'Dog (1)'], yticklabels=['Cat (0)', 'Dog (1)'])\n",
    "plt.title('Baseline SVM Validation Confusion Matrix')\n",
    "plt.ylabel('True Label')\n",
    "plt.xlabel('Predicted Label')\n",
    "plt.show()"
   ]
  },
  {
   "cell_type": "markdown",
   "id": "40a959c4",
   "metadata": {},
   "source": [
    "# Submission\n",
    "\n",
    "Apply the model to test data and submit it"
   ]
  },
  {
   "cell_type": "code",
   "execution_count": 10,
   "id": "1d2a387a",
   "metadata": {},
   "outputs": [
    {
     "name": "stdout",
     "output_type": "stream",
     "text": [
      "\n",
      "Processing 12500 test images for submission...\n"
     ]
    },
    {
     "name": "stderr",
     "output_type": "stream",
     "text": [
      "100%|██████████| 12500/12500 [08:49<00:00, 23.61it/s]\n"
     ]
    },
    {
     "name": "stdout",
     "output_type": "stream",
     "text": [
      "\n",
      "Baseline submission file 'submission_svm_baseline.csv' created.\n",
      "\n",
      "--- Baseline Submission File Head ---\n",
      "   id     label\n",
      "0   1  0.792665\n",
      "1   2  0.860475\n",
      "2   3  0.727814\n",
      "3   4  0.972361\n",
      "4   5  0.513809\n"
     ]
    }
   ],
   "source": [
    "# Submission File\n",
    "def generate_submission(model, test_dir, img_size, scaler):\n",
    "    submission_data = []\n",
    "    test_files = os.listdir(test_dir)\n",
    "    test_files.sort(key=lambda x: int(x.split('.')[0]))\n",
    "    \n",
    "    print(f\"\\nProcessing {len(test_files)} test images for submission...\")\n",
    "    for filename in tqdm(test_files):\n",
    "        try:\n",
    "            img_id = int(filename.split('.')[0])\n",
    "            img_path = os.path.join(test_dir, filename)\n",
    "            img_color = cv2.imread(img_path)\n",
    "            \n",
    "            if img_color is not None:\n",
    "                features = extract_features(img_color, img_size)\n",
    "                features_reshaped = features.reshape(1, -1)\n",
    "                features_scaled = scaler.transform(features_reshaped)\n",
    "                pred_prob = model.predict_proba(features_scaled)[0][1]\n",
    "                submission_data.append({'id': img_id, 'label': pred_prob})\n",
    "            else:\n",
    "                raise ValueError(\"Image could not be read\")\n",
    "        except Exception as e:\n",
    "            print(f\"\\n[WARNING] Test file '{filename}' failed. Using default 0.5. Error: {e}\")\n",
    "            submission_data.append({'id': img_id, 'label': 0.5})\n",
    "            continue\n",
    "\n",
    "    submission_df = pd.DataFrame(submission_data)\n",
    "    submission_df['label'] = submission_df['label'].clip(0.005, 0.995)\n",
    "    submission_df.to_csv('submission_svm_baseline.csv', index=False)\n",
    "    \n",
    "    print(\"\\nBaseline submission file 'submission_svm_baseline.csv' created.\")\n",
    "    return submission_df\n",
    "\n",
    "submission_df = generate_submission(model, TEST_DIR, IMG_SIZE, scaler)\n",
    "print(\"\\n--- Baseline Submission File Head ---\")\n",
    "print(submission_df.head())"
   ]
  }
 ],
 "metadata": {
  "kernelspec": {
   "display_name": "tf",
   "language": "python",
   "name": "python3"
  },
  "language_info": {
   "codemirror_mode": {
    "name": "ipython",
    "version": 3
   },
   "file_extension": ".py",
   "mimetype": "text/x-python",
   "name": "python",
   "nbconvert_exporter": "python",
   "pygments_lexer": "ipython3",
   "version": "3.9.19"
  }
 },
 "nbformat": 4,
 "nbformat_minor": 5
}
